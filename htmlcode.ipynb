{
 "cells": [
  {
   "cell_type": "code",
   "execution_count": null,
   "metadata": {},
   "outputs": [],
   "source": [
    "<!DOCTYPE html>\n",
    "<html>\n",
    "  <head>\n",
    "    <title>Pradhan - Data Incubator</title>\n",
    "    <link rel=\"stylesheet\" href=\"https://cdn.pydata.org/bokeh/release/bokeh-1.3.4.min.css\" type=\"text/css\" />\n",
    "<link rel=\"stylesheet\" href=\"https://cdn.pydata.org/bokeh/release/bokeh-widgets-1.3.4.min.css\" type=\"text/css\" />\n",
    "<link rel=\"stylesheet\" href=\"https://cdn.pydata.org/bokeh/release/bokeh-tables-1.3.4.min.css\" type=\"text/css\">\n",
    "  </head>\n",
    "  <body>\n",
    "    <h1>Stock Charts</h1>\n",
    "    {{ div|safe }}\n",
    "    <script type=\"text/javascript\" src=\"https://cdn.pydata.org/bokeh/release/bokeh-1.3.4.min.js\"></script>\n",
    "<script type=\"text/javascript\" src=\"https://cdn.pydata.org/bokeh/release/bokeh-api-1.3.4.min.js\"></script>\n",
    "<script type=\"text/javascript\" src=\"https://cdn.pydata.org/bokeh/release/bokeh-widgets-1.3.4.min.js\"></script>\n",
    "<script type=\"text/javascript\" src=\"https://cdn.pydata.org/bokeh/release/bokeh-tables-1.3.4.min.js\"></script>\n",
    "    {{ script|safe }}\n",
    "  </body>\n",
    "</html>\n",
    "\n",
    "\n",
    "\n",
    "\n",
    "WEB FORM HTML\n",
    "\n",
    "<form action=\"\" method=\"post\">\n",
    "            &#123; &#123; form.csrf &#125;&#125;\n",
    "<div class=\"input text\">\n",
    "                { { form.name.label }} { { form.name }}</div>\n",
    "<div class=\"input submit\">\n",
    "                <input type=\"submit\" value=\"Submit\"></div>\n",
    "</form>\n",
    "\n",
    "\n",
    "\n",
    "\n",
    "WEB FORM + BOKEH\n",
    "\n",
    "<html>\n",
    "<head>\n",
    "<link rel=\"stylesheet\" href=\"http://cdn.pydata.org/bokeh/release/bokeh-1.3.4.min.css\" type=\"text/css\" />\n",
    "<script type=\"text/javascript\" src=\"http://cdn.pydata.org/bokeh/release/bokeh-1.3.4.min.js\"></script>\n",
    "{{ script | safe }}\n",
    "</head>\n",
    "<body>\n",
    "<form action=\"\" method=\"post\">\n",
    "{{ form.csrf }}\n",
    "<div class=\"input text\"> {{ form.name.label }} {{ form.name }}</div>\n",
    "<div class=\"input submit\"><input type=\"submit\" value=\"Submit\"></div>\n",
    "</form>\n",
    "</br>\n",
    "<div class=page>\n",
    "<h3>Stock price comparison</h3>\n",
    "{{ div | safe }}\n",
    "</div>\n",
    "</body>\n",
    "</html>"
   ]
  }
 ],
 "metadata": {
  "kernelspec": {
   "display_name": "Python 3",
   "language": "python",
   "name": "python3"
  },
  "language_info": {
   "codemirror_mode": {
    "name": "ipython",
    "version": 3
   },
   "file_extension": ".py",
   "mimetype": "text/x-python",
   "name": "python",
   "nbconvert_exporter": "python",
   "pygments_lexer": "ipython3",
   "version": "3.7.3"
  }
 },
 "nbformat": 4,
 "nbformat_minor": 4
}
