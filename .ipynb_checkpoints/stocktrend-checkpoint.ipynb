{
 "cells": [
  {
   "cell_type": "code",
   "execution_count": null,
   "metadata": {},
   "outputs": [],
   "source": [
    "import pandas as pd\n",
    "from bokeh.plotting import *\n",
    "from bokeh.embed import *\n",
    "from bokeh.models import *\n",
    "from bokeh.palettes import *\n",
    "from bokeh.io import *\n",
    "from yahoo_fin import stock_info as si\n",
    "import datetime\n",
    "\n",
    "# We will look at stock prices over 2010\n",
    "start = datetime.date(2010,1,1)\n",
    "end = datetime.date.today()\n",
    "\n",
    "# Micosoft stock data\n",
    "msft = si.get_data('msft', start, end).close\n",
    "msft = pd.DataFrame(msft)\n",
    "msft.reset_index(level=0, inplace=True)\n",
    "#msft['date']=pd.to_datetime(msft['date'])\n",
    "\n",
    "# Any other ticker\n",
    "#ticker = input(\"Please enter a ticker:\")\n",
    "#anystock = si.get_data(ticker, start, end).close\n",
    "#anystock = pd.DataFrame(anystock)\n",
    "#anystock.reset_index(level=0, inplace=True)\n",
    "#anystock['date']=pd.to_datetime(msft['date'])\n",
    "\n",
    "# Plot closing price of AAPL and user-selected stock\n",
    "TOOLS = 'save,pan,box_zoom,reset,wheel_zoom,hover'   \n",
    "msftplot = figure(plot_height=300, sizing_mode='scale_width', x_axis_type=\"datetime\", tools = TOOLS)\n",
    "    \n",
    "msftplot.line(msft['date'], msft['close'], legend = \"MSFT\", color = \"blue\")\n",
    "#msftplot.line(anystock['date'], anystock['close'], legend = ticker, color = \"red\")\n",
    "\n",
    "msftplot.xaxis.axis_label = 'Time'\n",
    "msftplot.yaxis.axis_label = 'Close price in USD'\n",
    "msftplot.legend.location = \"top_left\"\n",
    "\n",
    "msftplot.select_one(HoverTool).tooltips = [\n",
    "    ('Price', '@y'),\n",
    "]\n",
    "\n",
    "output_file(\"msftstockchart.html\", title = \"Stock Chart\")\n",
    "show(msftplot)\n",
    "\n"
   ]
  },
  {
   "cell_type": "code",
   "execution_count": null,
   "metadata": {},
   "outputs": [],
   "source": []
  }
 ],
 "metadata": {
  "kernelspec": {
   "display_name": "Python 3",
   "language": "python",
   "name": "python3"
  },
  "language_info": {
   "codemirror_mode": {
    "name": "ipython",
    "version": 3
   },
   "file_extension": ".py",
   "mimetype": "text/x-python",
   "name": "python",
   "nbconvert_exporter": "python",
   "pygments_lexer": "ipython3",
   "version": "3.7.3"
  }
 },
 "nbformat": 4,
 "nbformat_minor": 4
}
